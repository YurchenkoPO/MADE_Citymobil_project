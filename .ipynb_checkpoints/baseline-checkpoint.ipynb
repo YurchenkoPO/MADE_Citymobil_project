{
 "cells": [
  {
   "cell_type": "code",
   "execution_count": 1,
   "metadata": {},
   "outputs": [],
   "source": [
    "import pandas as pd\n",
    "pd.set_option('display.max_columns', 200)\n",
    "import numpy as np\n",
    "import folium\n",
    "\n",
    "import matplotlib.pyplot as plt\n",
    "%matplotlib inline\n",
    "import haversine as hs\n",
    "\n",
    "import warnings\n",
    "import os, os.path\n",
    "import itertools\n",
    "from tqdm import tqdm\n",
    "warnings.filterwarnings(\"ignore\")\n",
    "\n",
    "import asyncio"
   ]
  },
  {
   "cell_type": "markdown",
   "metadata": {},
   "source": [
    "### В бейзлайне каждому водителю будут соответствовать следующие признаки:\n",
    "- средняя скорость\n",
    "- std скорости\n",
    "- min > 0, max скоростей\n",
    "- среднее расстояние между точками\n",
    "- std расстояния\n",
    "- max расстояний\n",
    "- среднее время между точками\n",
    "- std времени между точкаим\n",
    "- среднее время нахождения в одной точке (TODO)\n",
    "- отношение скоростей выше 500 к общему\n",
    "- ускорение\n",
    "- производная ускорения\n",
    "- поворот\n",
    "\n",
    "\n",
    "Оценивать будем случайным лесом"
   ]
  },
  {
   "cell_type": "code",
   "execution_count": 65,
   "metadata": {},
   "outputs": [],
   "source": [
    "baseline_cols = ['hash', 'v_mean', 'v_std', 'v_99', 'acceleration_mean', 'turn_mean', 'turn_std', 'v_more_500_ratio']\n",
    "\n",
    "orders_df = pd.read_csv('rides_of_drivers.csv', index_col=0)\n",
    "time_cols = ['ORDER_DTTM', 'DRIVER_ASSIGNED_DTTM', 'READY_FOR_COLL_DTTM', 'CLIENT_COLL_DTTM', 'ORDER_FINISHED_DTTM']\n",
    "for col in time_cols:\n",
    "    orders_df[col] = pd.to_datetime(orders_df[col])\n",
    "\n",
    "# Сортировка данных по времени\n",
    "def sort_by_time(df):\n",
    "    df['time'] = pd.to_datetime(df.time)\n",
    "    df = df.sort_values('time').reset_index(drop=True)\n",
    "    return df\n",
    "\n",
    "\n",
    "# Функция подсчета коэффициентов для подсчета скорсти\n",
    "def doubled_koeffs(n, k=1.2): # k - во сколько раз следующий коэфф больше предыдущего\n",
    "    f_1 = (k - 1) / (k ** n - 1)\n",
    "    return [f_1 * (k ** i) for i in range(n)]\n",
    "\n",
    "\n",
    "def make_time_statistics(df):\n",
    "    df['hour'] = df.time.apply(lambda x: x.hour)\n",
    "    df['minutes'] = df.time.apply(lambda x: x.minute)\n",
    "    df['seconds'] = df.time.apply(lambda x: x.second)\n",
    "    df['day'] = df.time.apply(lambda x: x.date())\n",
    "    df['clock'] = df.time.apply(lambda x: x.time())\n",
    "    return df\n",
    "\n",
    "\n",
    "# Подсчет скорости по n_points + 1 последовательным интервалам\n",
    "def count_velocity(df, n_points=0):\n",
    "    df['time'] = df.time.apply(lambda x: x.replace(microsecond=0))\n",
    "    df = df.groupby('time').mean().reset_index()\n",
    "    df[['prev_lat', 'prev_lon', 'time_1']] = df[['lat', 'lon', 'time']].shift(periods=1).fillna(method='bfill')\n",
    "    df['distance_1'] = df[['lat', 'lon', 'prev_lat', 'prev_lon']].apply(lambda x: hs.haversine((x.lat, x.lon), (x.prev_lat, x.prev_lon)), axis=1)\n",
    "    df['timedelta_1'] = df[['time', 'time_1']].apply(lambda x: (x.time - x.time_1).total_seconds()/60/60, axis=1)\n",
    "    for i in range(2, n_points + 2):\n",
    "        df[[f'distance_{i}', f'time_{i}']] = df[['distance_1', 'time_1']].shift(periods=i-1).fillna(method='bfill')\n",
    "        df[f'distance_{i}'] = df[f'distance_{i}'] + df[f'distance_{i-1}']\n",
    "        df[f'timedelta_{i}'] = df[['time', f'time_{i}']].apply(lambda x: (x.time - x[f'time_{i}']).total_seconds()/60/60, axis=1)\n",
    "        df['distance'] = df[f'distance_{i}']\n",
    "        df['timedelta'] = df[f'timedelta_{i}']\n",
    "        \n",
    "    def count_v(x):\n",
    "        res = 0\n",
    "        koefs = doubled_koeffs(n_points + 1)\n",
    "        for i in range(1, n_points + 2):\n",
    "            if x[f'timedelta_{i}'] == 0:\n",
    "                if x[f'distance_{i}'] > 0.3:\n",
    "                    res += np.inf\n",
    "                    break\n",
    "                else:\n",
    "                    res += 0\n",
    "            else:\n",
    "                res += koefs[i-1] * x[f'distance_{i}'] / x[f'timedelta_{i}']\n",
    "        return res\n",
    "        \n",
    "    #df['velocity'] = df[['distance', 'timedelta']].apply(lambda x: x.distance / x.timedelta if x.distance > 0.1 else 0., axis=1)\n",
    "    df['velocity'] = df.apply(count_v, axis=1)\n",
    "    return df.fillna(0.).iloc[n_points + 1::n_points+1, :].reset_index(drop=True)\n",
    "\n",
    "\n",
    "# ['hash', 'v_mean', 'v_std', 'v_99', 'acceleration_mean', 'turn_mean', 'turn_std', 'v_more_500_ratio']\n",
    "def make_baseline_features(df, df_with_speeds, baseline_cols=baseline_cols):\n",
    "    df[['prev_lat', 'prev_lon']] = df[['lat', 'lon']].shift(periods=1)\n",
    "    df[['next_lat', 'next_lon']] = df[['lat', 'lon']].shift(periods=-1)\n",
    "    df = df.iloc[1:-1, :]\n",
    "    df['alpha_1'] = df[['lat', 'lon', 'prev_lat', 'prev_lon']].apply(lambda x: hs.haversine((x.lat, x.lon), (x.prev_lat, x.lon)), axis=1)\n",
    "    df['alpha_2'] = df[['lat', 'lon', 'prev_lat', 'prev_lon']].apply(lambda x: hs.haversine((x.lat, x.lon), (x.lat, x.prev_lon)), axis=1)\n",
    "    df['beta_1'] = df[['lat', 'lon', 'next_lat', 'next_lon']].apply(lambda x: hs.haversine((x.lat, x.lon), (x.next_lat, x.lon)), axis=1)\n",
    "    df['beta_2'] = df[['lat', 'lon', 'next_lat', 'next_lon']].apply(lambda x: hs.haversine((x.lat, x.lon), (x.lat, x.next_lon)), axis=1)\n",
    "    df['a'] = df['alpha_1'] / df['alpha_2']\n",
    "    df['b'] = df['beta_1'] / df['beta_2']\n",
    "    df.fillna(0.)\n",
    "    df['turn'] = df[['a', 'b']].apply(lambda x: np.tan(x.a) ** (-1) - np.tan(x.b) ** (-1) if (x.a != 0 and x.b != 0) else 0, axis=1)\n",
    "    \n",
    "    v_mean = df_with_speeds.velocity.mean()\n",
    "    v_99 = np.percentile(df_with_speeds.velocity.values, 99)\n",
    "    v_std = df_with_speeds[df_with_speeds.velocity < v_99].velocity.std()\n",
    "    \n",
    "    \n",
    "    df_with_speeds[['prev_v', 'time_v']] = df_with_speeds[['velocity', 'time']].shift(periods=1).fillna(method='bfill')\n",
    "    df_with_speeds = df_with_speeds.iloc[1:, :]\n",
    "    df_with_speeds['timedelta_v'] = df_with_speeds[['time', 'time_v']].apply(lambda x: (x.time - x.time_v).total_seconds()/60/60, axis=1)\n",
    "    df_with_speeds['diff_v'] = df_with_speeds[['velocity', 'prev_v']].apply(lambda x: x.velocity - x.prev_v, axis=1)\n",
    "    df_with_speeds['acceleration'] = df_with_speeds[['diff_v', 'timedelta_v']].apply(lambda x: x.diff_v / x.timedelta_v, axis=1)\n",
    "    \n",
    "    acceleration_mean = df_with_speeds.acceleration.mean()\n",
    "    turn_mean = df.turn.mean()\n",
    "    turn_std = df.turn.std()\n",
    "    \n",
    "    x = df_with_speeds[df_with_speeds.velocity > 500]\n",
    "    if len(x) > 0:\n",
    "        v_more_500_ratio = len(x) / len(df_with_speeds)\n",
    "    else:\n",
    "        v_more_500_ratio = 0\n",
    "    \n",
    "    features = [v_mean, v_std, v_99, acceleration_mean, turn_mean, turn_std, v_more_500_ratio]\n",
    "    if len(features) != len(baseline_cols) - 1:\n",
    "        print(f'Length of features ({len(features)}) != length of baseline_cols ({len(baseline_cols) - 1}) = {baseline_cols}')\n",
    "    return features\n",
    "    \n",
    "\n",
    "# Читаем данные сразу с их преобразованием \n",
    "# скорость для акселерометра не вижу смысла считать, потому что куча точек внутри одной секунды, а потом большие разрывы по минуте\n",
    "def read_data(path, df_for_training=None, y_for_training=None, label=0): # 0 - normal, 1 - frauder\n",
    "    hash_ = int(path.split('/')[-2])\n",
    "    track = pd.read_csv(path + 'track.csv')\n",
    "    accelerometer = pd.read_csv(path + 'accelerometer.csv')\n",
    "    track['time'] = track.gps_time\n",
    "    track = sort_by_time(track)\n",
    "    accelerometer = sort_by_time(accelerometer)\n",
    "    \n",
    "    final_track = count_velocity(track, n_points=3)\n",
    "    try:\n",
    "        final_accelerometer = count_velocity(accelerometer, n_points=1)\n",
    "    except:\n",
    "        final_accelerometer = accelerometer\n",
    "    \n",
    "    final_track = make_time_statistics(final_track)\n",
    "    final_accelerometer = make_time_statistics(final_accelerometer)\n",
    "    \n",
    "    a = orders_df[orders_df.driver_hash == hash_]\n",
    "    a = a.sort_values('ORDER_DTTM').reset_index(drop=True)\n",
    "    \n",
    "    if df_for_training is not None:\n",
    "        features = make_baseline_features(track, final_track)\n",
    "        df_for_training.loc[len(df_for_training), :] = [hash_] + features\n",
    "        if y_for_training is not None:\n",
    "            y_train.append(label)\n",
    "\n",
    "    return final_track, final_accelerometer, a\n",
    "\n",
    "\n",
    "# Смотрим частоту маленьких поездок, которые меньше 1 км, пока в тупую (хаверсина между началом и концом)\n",
    "# TODO отсеить поездки, которые несвершились\n",
    "def count_small_orders(order_df):\n",
    "    if len(order_df) == 0:\n",
    "        return 0\n",
    "    order_df['line_distance'] = order_df.apply(lambda x: hs.haversine((x.A_LAT, x.A_LON), (x.B_LAT, x.B_LON)), axis=1)\n",
    "    order_df['line_dist_is_small'] = order_df.line_distance.apply(lambda x: x < 1.5)\n",
    "    return np.mean(order_df.line_dist_is_small)"
   ]
  },
  {
   "cell_type": "code",
   "execution_count": null,
   "metadata": {},
   "outputs": [],
   "source": []
  },
  {
   "cell_type": "code",
   "execution_count": null,
   "metadata": {},
   "outputs": [],
   "source": []
  },
  {
   "cell_type": "code",
   "execution_count": 66,
   "metadata": {},
   "outputs": [],
   "source": [
    "X_train = pd.DataFrame(columns=baseline_cols)\n",
    "y_train = []"
   ]
  },
  {
   "cell_type": "code",
   "execution_count": 67,
   "metadata": {},
   "outputs": [
    {
     "name": "stderr",
     "output_type": "stream",
     "text": [
      "100%|██████████| 14/14 [01:20<00:00,  5.75s/it]\n"
     ]
    }
   ],
   "source": [
    "folder = './drivers_with_gps_and_sl_problems/'\n",
    "\n",
    "for i, driver in enumerate(tqdm(os.listdir(folder))):\n",
    "    read_data(folder + driver + '/', X_train, y_train, label=1)"
   ]
  },
  {
   "cell_type": "code",
   "execution_count": 68,
   "metadata": {},
   "outputs": [
    {
     "name": "stderr",
     "output_type": "stream",
     "text": [
      "100%|██████████| 23/23 [11:24<00:00, 29.75s/it]\n"
     ]
    }
   ],
   "source": [
    "folder = './data_good_right_dates/'\n",
    "\n",
    "for driver in tqdm(os.listdir(folder)):\n",
    "    read_data(folder + driver + '/', X_train, y_train, label=0)"
   ]
  },
  {
   "cell_type": "code",
   "execution_count": 69,
   "metadata": {},
   "outputs": [
    {
     "data": {
      "text/plain": [
       "((37, 7), 37)"
      ]
     },
     "execution_count": 69,
     "metadata": {},
     "output_type": "execute_result"
    }
   ],
   "source": [
    "X_train = X_train.set_index('hash')\n",
    "X_train.shape, len(y_train)"
   ]
  },
  {
   "cell_type": "code",
   "execution_count": 70,
   "metadata": {},
   "outputs": [],
   "source": [
    "y = X_train.iloc[:, :0].copy()\n",
    "y['label'] = y_train"
   ]
  },
  {
   "cell_type": "code",
   "execution_count": 71,
   "metadata": {},
   "outputs": [],
   "source": [
    "X_train.to_csv('X_train.csv')\n",
    "y.to_csv('y_train.csv')"
   ]
  },
  {
   "cell_type": "code",
   "execution_count": 72,
   "metadata": {},
   "outputs": [
    {
     "data": {
      "text/html": [
       "<div>\n",
       "<style scoped>\n",
       "    .dataframe tbody tr th:only-of-type {\n",
       "        vertical-align: middle;\n",
       "    }\n",
       "\n",
       "    .dataframe tbody tr th {\n",
       "        vertical-align: top;\n",
       "    }\n",
       "\n",
       "    .dataframe thead th {\n",
       "        text-align: right;\n",
       "    }\n",
       "</style>\n",
       "<table border=\"1\" class=\"dataframe\">\n",
       "  <thead>\n",
       "    <tr style=\"text-align: right;\">\n",
       "      <th></th>\n",
       "      <th>v_mean</th>\n",
       "      <th>v_std</th>\n",
       "      <th>v_99</th>\n",
       "      <th>acceleration_mean</th>\n",
       "      <th>turn_mean</th>\n",
       "      <th>turn_std</th>\n",
       "      <th>v_more_500_ratio</th>\n",
       "    </tr>\n",
       "    <tr>\n",
       "      <th>hash</th>\n",
       "      <th></th>\n",
       "      <th></th>\n",
       "      <th></th>\n",
       "      <th></th>\n",
       "      <th></th>\n",
       "      <th></th>\n",
       "      <th></th>\n",
       "    </tr>\n",
       "  </thead>\n",
       "  <tbody>\n",
       "    <tr>\n",
       "      <th>-7745607963253656189</th>\n",
       "      <td>22.98</td>\n",
       "      <td>22.4899</td>\n",
       "      <td>71.8259</td>\n",
       "      <td>-37.4116</td>\n",
       "      <td>0.0948733</td>\n",
       "      <td>70.5957</td>\n",
       "      <td>0.000251067</td>\n",
       "    </tr>\n",
       "    <tr>\n",
       "      <th>-2132251359044308970</th>\n",
       "      <td>9.0087</td>\n",
       "      <td>14.6807</td>\n",
       "      <td>67.5871</td>\n",
       "      <td>40.2256</td>\n",
       "      <td>-0.129913</td>\n",
       "      <td>15.7466</td>\n",
       "      <td>0</td>\n",
       "    </tr>\n",
       "    <tr>\n",
       "      <th>-8729475955540025841</th>\n",
       "      <td>6.75248</td>\n",
       "      <td>10.9835</td>\n",
       "      <td>50.6297</td>\n",
       "      <td>2.22572</td>\n",
       "      <td>0.0261357</td>\n",
       "      <td>7.54308</td>\n",
       "      <td>0</td>\n",
       "    </tr>\n",
       "    <tr>\n",
       "      <th>-4687681644253937266</th>\n",
       "      <td>9.12981</td>\n",
       "      <td>10.2587</td>\n",
       "      <td>38.6248</td>\n",
       "      <td>33.1832</td>\n",
       "      <td>-0.0117773</td>\n",
       "      <td>6.07077</td>\n",
       "      <td>0</td>\n",
       "    </tr>\n",
       "    <tr>\n",
       "      <th>2025312357143911724</th>\n",
       "      <td>10.6446</td>\n",
       "      <td>14.0941</td>\n",
       "      <td>71.4916</td>\n",
       "      <td>-336.483</td>\n",
       "      <td>-0.0281088</td>\n",
       "      <td>56.7918</td>\n",
       "      <td>0.000950119</td>\n",
       "    </tr>\n",
       "  </tbody>\n",
       "</table>\n",
       "</div>"
      ],
      "text/plain": [
       "                       v_mean    v_std     v_99 acceleration_mean  turn_mean  \\\n",
       "hash                                                                           \n",
       "-7745607963253656189    22.98  22.4899  71.8259          -37.4116  0.0948733   \n",
       "-2132251359044308970   9.0087  14.6807  67.5871           40.2256  -0.129913   \n",
       "-8729475955540025841  6.75248  10.9835  50.6297           2.22572  0.0261357   \n",
       "-4687681644253937266  9.12981  10.2587  38.6248           33.1832 -0.0117773   \n",
       " 2025312357143911724  10.6446  14.0941  71.4916          -336.483 -0.0281088   \n",
       "\n",
       "                     turn_std v_more_500_ratio  \n",
       "hash                                            \n",
       "-7745607963253656189  70.5957      0.000251067  \n",
       "-2132251359044308970  15.7466                0  \n",
       "-8729475955540025841  7.54308                0  \n",
       "-4687681644253937266  6.07077                0  \n",
       " 2025312357143911724  56.7918      0.000950119  "
      ]
     },
     "execution_count": 72,
     "metadata": {},
     "output_type": "execute_result"
    }
   ],
   "source": [
    "X_train.head()"
   ]
  },
  {
   "cell_type": "code",
   "execution_count": 73,
   "metadata": {},
   "outputs": [
    {
     "data": {
      "text/plain": [
       "v_mean                 74.157200\n",
       "v_std                  14.716370\n",
       "v_99                  227.172645\n",
       "acceleration_mean   -8913.734629\n",
       "turn_mean              -0.042465\n",
       "turn_std               41.661902\n",
       "v_more_500_ratio        0.009272\n",
       "dtype: float64"
      ]
     },
     "execution_count": 73,
     "metadata": {},
     "output_type": "execute_result"
    }
   ],
   "source": [
    "X_train.iloc[np.array(y_train)==1, :].mean()"
   ]
  },
  {
   "cell_type": "code",
   "execution_count": 74,
   "metadata": {},
   "outputs": [
    {
     "data": {
      "text/plain": [
       "v_mean                22.762999\n",
       "v_std                 24.715237\n",
       "v_99                  94.006855\n",
       "acceleration_mean    -39.534970\n",
       "turn_mean              0.137305\n",
       "turn_std             108.485903\n",
       "v_more_500_ratio       0.000128\n",
       "dtype: float64"
      ]
     },
     "execution_count": 74,
     "metadata": {},
     "output_type": "execute_result"
    }
   ],
   "source": [
    "X_train.iloc[np.array(y_train)==0, :].mean()"
   ]
  },
  {
   "cell_type": "code",
   "execution_count": 81,
   "metadata": {},
   "outputs": [
    {
     "data": {
      "image/png": "[encoded data removed]",
      "text/plain": [
       "<Figure size 432x432 with 3 Axes>"
      ]
     },
     "metadata": {
      "needs_background": "light"
     },
     "output_type": "display_data"
    }
   ],
   "source": [
    "import seaborn as sns\n",
    "\n",
    "sns.jointplot(x=X_train.turn_mean.astype(float), y=X_train.turn_std.astype(float), hue=y_train);"
   ]
  },
  {
   "cell_type": "code",
   "execution_count": 67,
   "metadata": {},
   "outputs": [
    {
     "data": {
      "image/png": "[encoded data removed]",
      "text/plain": [
       "<Figure size 432x432 with 3 Axes>"
      ]
     },
     "metadata": {
      "needs_background": "light"
     },
     "output_type": "display_data"
    }
   ],
   "source": [
    "sns.jointplot(x=X_train.v_std.astype(float), y=X_train.v_more_500_ratio.astype(float), hue=y_train);"
   ]
  },
  {
   "cell_type": "markdown",
   "metadata": {},
   "source": [
    "Теперь прогоним код для всех водителей из папки data/. Хоть это и бейзлайн, считается у меня это достаточно долго. Думаю, стоит распараллелить питон. Для конечного решения это точно будет плюсом"
   ]
  },
  {
   "cell_type": "code",
   "execution_count": 84,
   "metadata": {},
   "outputs": [],
   "source": [
    "X_test = pd.DataFrame(columns=baseline_cols)"
   ]
  },
  {
   "cell_type": "code",
   "execution_count": 85,
   "metadata": {},
   "outputs": [
    {
     "name": "stderr",
     "output_type": "stream",
     "text": [
      "100%|██████████| 280/280 [57:53<00:00, 12.41s/it]   \n"
     ]
    }
   ],
   "source": [
    "# import multiprocessing as mp\n",
    "# pool = mp.Pool(mp.cpu_count())\n",
    "folder = './data/'\n",
    "\n",
    "for i, driver in enumerate(tqdm(os.listdir(folder))):\n",
    "    read_data(folder + driver + '/', X_test)\n",
    "    #pool.apply(read_data, args=(folder + driver + '/', X_test))"
   ]
  },
  {
   "cell_type": "code",
   "execution_count": 86,
   "metadata": {},
   "outputs": [],
   "source": [
    "X_test = X_test.set_index('hash')\n",
    "X_test.to_csv('X_test.csv')"
   ]
  },
  {
   "cell_type": "code",
   "execution_count": 87,
   "metadata": {},
   "outputs": [
    {
     "data": {
      "text/html": [
       "<div>\n",
       "<style scoped>\n",
       "    .dataframe tbody tr th:only-of-type {\n",
       "        vertical-align: middle;\n",
       "    }\n",
       "\n",
       "    .dataframe tbody tr th {\n",
       "        vertical-align: top;\n",
       "    }\n",
       "\n",
       "    .dataframe thead th {\n",
       "        text-align: right;\n",
       "    }\n",
       "</style>\n",
       "<table border=\"1\" class=\"dataframe\">\n",
       "  <thead>\n",
       "    <tr style=\"text-align: right;\">\n",
       "      <th></th>\n",
       "      <th>v_mean</th>\n",
       "      <th>v_std</th>\n",
       "      <th>v_99</th>\n",
       "      <th>acceleration_mean</th>\n",
       "      <th>turn_mean</th>\n",
       "      <th>turn_std</th>\n",
       "      <th>v_more_500_ratio</th>\n",
       "    </tr>\n",
       "    <tr>\n",
       "      <th>hash</th>\n",
       "      <th></th>\n",
       "      <th></th>\n",
       "      <th></th>\n",
       "      <th></th>\n",
       "      <th></th>\n",
       "      <th></th>\n",
       "      <th></th>\n",
       "    </tr>\n",
       "  </thead>\n",
       "  <tbody>\n",
       "    <tr>\n",
       "      <th>-3058960968850258261</th>\n",
       "      <td>16.977</td>\n",
       "      <td>19.4734</td>\n",
       "      <td>84.6662</td>\n",
       "      <td>5.55901</td>\n",
       "      <td>-0.00825795</td>\n",
       "      <td>70.6898</td>\n",
       "      <td>0</td>\n",
       "    </tr>\n",
       "    <tr>\n",
       "      <th>8484618983568667576</th>\n",
       "      <td>15.1914</td>\n",
       "      <td>18.3776</td>\n",
       "      <td>79.1765</td>\n",
       "      <td>-81.4144</td>\n",
       "      <td>0.101937</td>\n",
       "      <td>100.732</td>\n",
       "      <td>0.000163026</td>\n",
       "    </tr>\n",
       "    <tr>\n",
       "      <th>-3805540174974105551</th>\n",
       "      <td>11.3718</td>\n",
       "      <td>15.4233</td>\n",
       "      <td>98.7529</td>\n",
       "      <td>-61.5172</td>\n",
       "      <td>-1.04675</td>\n",
       "      <td>196.984</td>\n",
       "      <td>0.000127584</td>\n",
       "    </tr>\n",
       "    <tr>\n",
       "      <th>-4314724154661491271</th>\n",
       "      <td>18.0823</td>\n",
       "      <td>18.5807</td>\n",
       "      <td>71.8808</td>\n",
       "      <td>-63.0445</td>\n",
       "      <td>-0.00091888</td>\n",
       "      <td>43.656</td>\n",
       "      <td>0.000173611</td>\n",
       "    </tr>\n",
       "    <tr>\n",
       "      <th>-8175744515075329388</th>\n",
       "      <td>8.73337</td>\n",
       "      <td>13.066</td>\n",
       "      <td>54.6157</td>\n",
       "      <td>-392.305</td>\n",
       "      <td>0.0124856</td>\n",
       "      <td>14.316</td>\n",
       "      <td>0.00125</td>\n",
       "    </tr>\n",
       "    <tr>\n",
       "      <th>...</th>\n",
       "      <td>...</td>\n",
       "      <td>...</td>\n",
       "      <td>...</td>\n",
       "      <td>...</td>\n",
       "      <td>...</td>\n",
       "      <td>...</td>\n",
       "      <td>...</td>\n",
       "    </tr>\n",
       "    <tr>\n",
       "      <th>-4296684748468380104</th>\n",
       "      <td>12.7479</td>\n",
       "      <td>15.8912</td>\n",
       "      <td>67.1908</td>\n",
       "      <td>-9.66428</td>\n",
       "      <td>0.0540049</td>\n",
       "      <td>34.6199</td>\n",
       "      <td>0</td>\n",
       "    </tr>\n",
       "    <tr>\n",
       "      <th>-2130204966309453770</th>\n",
       "      <td>26.2237</td>\n",
       "      <td>26.4171</td>\n",
       "      <td>96.5844</td>\n",
       "      <td>6.29562</td>\n",
       "      <td>0.0670518</td>\n",
       "      <td>56.9763</td>\n",
       "      <td>0</td>\n",
       "    </tr>\n",
       "    <tr>\n",
       "      <th>5917943787906222465</th>\n",
       "      <td>17.6882</td>\n",
       "      <td>23.9465</td>\n",
       "      <td>89.6327</td>\n",
       "      <td>-1.52369</td>\n",
       "      <td>0.850978</td>\n",
       "      <td>110.733</td>\n",
       "      <td>0</td>\n",
       "    </tr>\n",
       "    <tr>\n",
       "      <th>-4146159574901913979</th>\n",
       "      <td>39.962</td>\n",
       "      <td>31.1918</td>\n",
       "      <td>112.142</td>\n",
       "      <td>18.0505</td>\n",
       "      <td>-0.0182038</td>\n",
       "      <td>10.7717</td>\n",
       "      <td>0</td>\n",
       "    </tr>\n",
       "    <tr>\n",
       "      <th>7048758011428066152</th>\n",
       "      <td>27.0858</td>\n",
       "      <td>28.2182</td>\n",
       "      <td>100.506</td>\n",
       "      <td>-83.7765</td>\n",
       "      <td>-0.0862576</td>\n",
       "      <td>128.135</td>\n",
       "      <td>0</td>\n",
       "    </tr>\n",
       "  </tbody>\n",
       "</table>\n",
       "<p>280 rows × 7 columns</p>\n",
       "</div>"
      ],
      "text/plain": [
       "                       v_mean    v_std     v_99 acceleration_mean   turn_mean  \\\n",
       "hash                                                                            \n",
       "-3058960968850258261   16.977  19.4734  84.6662           5.55901 -0.00825795   \n",
       " 8484618983568667576  15.1914  18.3776  79.1765          -81.4144    0.101937   \n",
       "-3805540174974105551  11.3718  15.4233  98.7529          -61.5172    -1.04675   \n",
       "-4314724154661491271  18.0823  18.5807  71.8808          -63.0445 -0.00091888   \n",
       "-8175744515075329388  8.73337   13.066  54.6157          -392.305   0.0124856   \n",
       "...                       ...      ...      ...               ...         ...   \n",
       "-4296684748468380104  12.7479  15.8912  67.1908          -9.66428   0.0540049   \n",
       "-2130204966309453770  26.2237  26.4171  96.5844           6.29562   0.0670518   \n",
       " 5917943787906222465  17.6882  23.9465  89.6327          -1.52369    0.850978   \n",
       "-4146159574901913979   39.962  31.1918  112.142           18.0505  -0.0182038   \n",
       " 7048758011428066152  27.0858  28.2182  100.506          -83.7765  -0.0862576   \n",
       "\n",
       "                     turn_std v_more_500_ratio  \n",
       "hash                                            \n",
       "-3058960968850258261  70.6898                0  \n",
       " 8484618983568667576  100.732      0.000163026  \n",
       "-3805540174974105551  196.984      0.000127584  \n",
       "-4314724154661491271   43.656      0.000173611  \n",
       "-8175744515075329388   14.316          0.00125  \n",
       "...                       ...              ...  \n",
       "-4296684748468380104  34.6199                0  \n",
       "-2130204966309453770  56.9763                0  \n",
       " 5917943787906222465  110.733                0  \n",
       "-4146159574901913979  10.7717                0  \n",
       " 7048758011428066152  128.135                0  \n",
       "\n",
       "[280 rows x 7 columns]"
      ]
     },
     "execution_count": 87,
     "metadata": {},
     "output_type": "execute_result"
    }
   ],
   "source": [
    "X_test"
   ]
  },
  {
   "cell_type": "code",
   "execution_count": 145,
   "metadata": {},
   "outputs": [],
   "source": [
    "sus = [-3805540174974105551,\n",
    "-1096547806415121851,\n",
    "7804598010007500018,\n",
    "2377516333004407886,\n",
    "8495411695898023080,\n",
    "-2860157265962384457,\n",
    "3468509353225836445,\n",
    "-8857392642314553152,\n",
    "6791644411882170636,\n",
    "6152877029673503441,\n",
    "6839049082353441247,\n",
    "-7975065341676034332,\n",
    "8472641716551984138,\n",
    "-4988150073806022504]"
   ]
  },
  {
   "cell_type": "code",
   "execution_count": 131,
   "metadata": {},
   "outputs": [],
   "source": [
    "bad = X_test[X_test.index.isin(sus)]"
   ]
  },
  {
   "cell_type": "code",
   "execution_count": 7,
   "metadata": {},
   "outputs": [],
   "source": [
    "# X_train = pd.read_csv('X_train_small.csv', index_col='hash')\n",
    "# X_test = pd.read_csv('X_test_small.csv', index_col='hash')\n",
    "# y_train = pd.read_csv('y_train_small.csv', index_col='hash')"
   ]
  },
  {
   "cell_type": "code",
   "execution_count": 88,
   "metadata": {},
   "outputs": [],
   "source": [
    "from sklearn.ensemble import RandomForestClassifier\n",
    "from sklearn.linear_model import LogisticRegression\n",
    "from sklearn.svm import SVC\n",
    "from sklearn.model_selection import GridSearchCV\n",
    "from sklearn.preprocessing import MinMaxScaler\n",
    "from sklearn.pipeline import Pipeline"
   ]
  },
  {
   "cell_type": "code",
   "execution_count": 152,
   "metadata": {},
   "outputs": [],
   "source": [
    "pipeline = Pipeline(\n",
    "    [\n",
    "        #('scaler', MinMaxScaler()),\n",
    "        ('forest', RandomForestClassifier())\n",
    "        #('svm', SVC())\n",
    "        #('logreg', LogisticRegression())\n",
    "    ]\n",
    ")"
   ]
  },
  {
   "cell_type": "code",
   "execution_count": 156,
   "metadata": {},
   "outputs": [],
   "source": [
    "param_grid = {\n",
    "    'forest__n_estimators': np.linspace(50, 90, 5).astype(int),\n",
    "    'forest__max_depth': np.linspace(2, 9, 8).astype(int)\n",
    "}\n",
    "\n",
    "#param_grid = {'svm__kernel':('linear', 'rbf'), 'svm__C': np.logspace(-2, 2, 5)}\n",
    "\n",
    "# param_grid = {'logreg__penalty': ['l1', 'l2', None] ,'logreg__C': np.logspace(-2, 2, 5)}"
   ]
  },
  {
   "cell_type": "code",
   "execution_count": 157,
   "metadata": {},
   "outputs": [
    {
     "data": {
      "text/plain": [
       "GridSearchCV(cv=15,\n",
       "             estimator=Pipeline(steps=[('forest', RandomForestClassifier())]),\n",
       "             n_jobs=-1,\n",
       "             param_grid={'forest__max_depth': array([2, 3, 4, 5, 6, 7, 8, 9]),\n",
       "                         'forest__n_estimators': array([50, 60, 70, 80, 90])})"
      ]
     },
     "execution_count": 157,
     "metadata": {},
     "output_type": "execute_result"
    }
   ],
   "source": [
    "clf = GridSearchCV(pipeline, param_grid=param_grid, n_jobs=-1, cv=15)\n",
    "clf.fit(X_train, y_train)"
   ]
  },
  {
   "cell_type": "code",
   "execution_count": 158,
   "metadata": {},
   "outputs": [
    {
     "data": {
      "text/plain": [
       "{'forest__max_depth': 2, 'forest__n_estimators': 80}"
      ]
     },
     "execution_count": 158,
     "metadata": {},
     "output_type": "execute_result"
    }
   ],
   "source": [
    "clf.best_params_"
   ]
  },
  {
   "cell_type": "code",
   "execution_count": 159,
   "metadata": {},
   "outputs": [],
   "source": [
    "y_test = clf.predict(X_test)"
   ]
  },
  {
   "cell_type": "code",
   "execution_count": 160,
   "metadata": {},
   "outputs": [
    {
     "data": {
      "image/png": "[encoded data removed]",
      "text/plain": [
       "<Figure size 432x432 with 3 Axes>"
      ]
     },
     "metadata": {
      "needs_background": "light"
     },
     "output_type": "display_data"
    }
   ],
   "source": [
    "sns.jointplot(x=X_test.v_mean.astype(float), y=X_test.v_more_500_ratio.astype(float), hue=y_test);"
   ]
  },
  {
   "cell_type": "code",
   "execution_count": 161,
   "metadata": {},
   "outputs": [],
   "source": [
    "y_pred = clf.predict_proba(X_test)[:, 1]"
   ]
  },
  {
   "cell_type": "code",
   "execution_count": 162,
   "metadata": {},
   "outputs": [],
   "source": [
    "y = X_test.iloc[:, :0].copy()\n",
    "y['suspicious'] = y_pred"
   ]
  },
  {
   "cell_type": "code",
   "execution_count": 163,
   "metadata": {},
   "outputs": [],
   "source": [
    "y.to_csv('baseline.csv')"
   ]
  },
  {
   "cell_type": "code",
   "execution_count": null,
   "metadata": {},
   "outputs": [],
   "source": []
  },
  {
   "cell_type": "code",
   "execution_count": 111,
   "metadata": {},
   "outputs": [],
   "source": []
  },
  {
   "cell_type": "code",
   "execution_count": 301,
   "metadata": {},
   "outputs": [],
   "source": [
    "y = pd.read_csv('baseline.csv')"
   ]
  },
  {
   "cell_type": "code",
   "execution_count": 172,
   "metadata": {},
   "outputs": [
    {
     "data": {
      "text/html": [
       "<div>\n",
       "<style scoped>\n",
       "    .dataframe tbody tr th:only-of-type {\n",
       "        vertical-align: middle;\n",
       "    }\n",
       "\n",
       "    .dataframe tbody tr th {\n",
       "        vertical-align: top;\n",
       "    }\n",
       "\n",
       "    .dataframe thead th {\n",
       "        text-align: right;\n",
       "    }\n",
       "</style>\n",
       "<table border=\"1\" class=\"dataframe\">\n",
       "  <thead>\n",
       "    <tr style=\"text-align: right;\">\n",
       "      <th></th>\n",
       "      <th>hash</th>\n",
       "      <th>suspicious</th>\n",
       "    </tr>\n",
       "  </thead>\n",
       "  <tbody>\n",
       "    <tr>\n",
       "      <th>0</th>\n",
       "      <td>-590284456295391572</td>\n",
       "      <td>0.961535</td>\n",
       "    </tr>\n",
       "    <tr>\n",
       "      <th>1</th>\n",
       "      <td>1366943225879240163</td>\n",
       "      <td>0.948887</td>\n",
       "    </tr>\n",
       "    <tr>\n",
       "      <th>2</th>\n",
       "      <td>-7975065341676034332</td>\n",
       "      <td>0.936885</td>\n",
       "    </tr>\n",
       "    <tr>\n",
       "      <th>3</th>\n",
       "      <td>2377516333004407886</td>\n",
       "      <td>0.936243</td>\n",
       "    </tr>\n",
       "    <tr>\n",
       "      <th>4</th>\n",
       "      <td>-6373943830153052320</td>\n",
       "      <td>0.931577</td>\n",
       "    </tr>\n",
       "    <tr>\n",
       "      <th>...</th>\n",
       "      <td>...</td>\n",
       "      <td>...</td>\n",
       "    </tr>\n",
       "    <tr>\n",
       "      <th>275</th>\n",
       "      <td>-4016388014455777024</td>\n",
       "      <td>0.126051</td>\n",
       "    </tr>\n",
       "    <tr>\n",
       "      <th>276</th>\n",
       "      <td>-6224782141728849045</td>\n",
       "      <td>0.125770</td>\n",
       "    </tr>\n",
       "    <tr>\n",
       "      <th>277</th>\n",
       "      <td>6905667836499999661</td>\n",
       "      <td>0.124617</td>\n",
       "    </tr>\n",
       "    <tr>\n",
       "      <th>278</th>\n",
       "      <td>6507285649535932930</td>\n",
       "      <td>0.120813</td>\n",
       "    </tr>\n",
       "    <tr>\n",
       "      <th>279</th>\n",
       "      <td>2675529565097588969</td>\n",
       "      <td>0.116552</td>\n",
       "    </tr>\n",
       "  </tbody>\n",
       "</table>\n",
       "<p>280 rows × 2 columns</p>\n",
       "</div>"
      ],
      "text/plain": [
       "                    hash  suspicious\n",
       "0    -590284456295391572    0.961535\n",
       "1    1366943225879240163    0.948887\n",
       "2   -7975065341676034332    0.936885\n",
       "3    2377516333004407886    0.936243\n",
       "4   -6373943830153052320    0.931577\n",
       "..                   ...         ...\n",
       "275 -4016388014455777024    0.126051\n",
       "276 -6224782141728849045    0.125770\n",
       "277  6905667836499999661    0.124617\n",
       "278  6507285649535932930    0.120813\n",
       "279  2675529565097588969    0.116552\n",
       "\n",
       "[280 rows x 2 columns]"
      ]
     },
     "execution_count": 172,
     "metadata": {},
     "output_type": "execute_result"
    }
   ],
   "source": [
    "a = y.sort_values('suspicious', ascending=False).reset_index()\n",
    "a\n",
    "#a[a.hash.isin(sus)]"
   ]
  },
  {
   "cell_type": "code",
   "execution_count": null,
   "metadata": {},
   "outputs": [],
   "source": []
  },
  {
   "cell_type": "code",
   "execution_count": 166,
   "metadata": {},
   "outputs": [],
   "source": [
    "from sklearn.ensemble import IsolationForest"
   ]
  },
  {
   "cell_type": "code",
   "execution_count": 167,
   "metadata": {},
   "outputs": [],
   "source": [
    "iforest = IsolationForest(n_estimators=100).fit(pd.concat([X_test, X_train]))"
   ]
  },
  {
   "cell_type": "code",
   "execution_count": 168,
   "metadata": {},
   "outputs": [],
   "source": [
    "y_iforest = iforest.score_samples(X_test)"
   ]
  },
  {
   "cell_type": "code",
   "execution_count": 169,
   "metadata": {},
   "outputs": [],
   "source": [
    "y_iforest = y_iforest[:len(X_test)]"
   ]
  },
  {
   "cell_type": "code",
   "execution_count": 170,
   "metadata": {},
   "outputs": [
    {
     "data": {
      "image/png": "[encoded data removed]",
      "text/plain": [
       "<Figure size 432x432 with 3 Axes>"
      ]
     },
     "metadata": {
      "needs_background": "light"
     },
     "output_type": "display_data"
    }
   ],
   "source": [
    "sns.jointplot(x=X_test.v_mean.astype(float), y=X_test.v_more_500_ratio.astype(float), hue=y_iforest);"
   ]
  },
  {
   "cell_type": "code",
   "execution_count": null,
   "metadata": {},
   "outputs": [],
   "source": []
  }
 ],
 "metadata": {
  "kernelspec": {
   "display_name": "Python 3",
   "language": "python",
   "name": "python3"
  },
  "language_info": {
   "codemirror_mode": {
    "name": "ipython",
    "version": 3
   },
   "file_extension": ".py",
   "mimetype": "text/x-python",
   "name": "python",
   "nbconvert_exporter": "python",
   "pygments_lexer": "ipython3",
   "version": "3.8.3"
  }
 },
 "nbformat": 4,
 "nbformat_minor": 4
}
